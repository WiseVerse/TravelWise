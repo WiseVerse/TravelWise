{
 "cells": [
  {
   "metadata": {
    "collapsed": true,
    "ExecuteTime": {
     "end_time": "2025-05-13T13:40:00.864236Z",
     "start_time": "2025-05-13T13:39:59.041526Z"
    }
   },
   "cell_type": "code",
   "source": [
    "from langgraph.checkpoint.memory import MemorySaver\n",
    "\n",
    "from langgraph.graph import StateGraph, START, END\n",
    "\n",
    "from Models.State import State\n",
    "from Nodes.chatbot import chatbot"
   ],
   "id": "initial_id",
   "outputs": [],
   "execution_count": 1
  },
  {
   "metadata": {
    "ExecuteTime": {
     "end_time": "2025-05-13T13:40:00.889261Z",
     "start_time": "2025-05-13T13:40:00.883736Z"
    }
   },
   "cell_type": "code",
   "source": "memory = MemorySaver()",
   "id": "70c94ddb14a38ec9",
   "outputs": [],
   "execution_count": 2
  },
  {
   "metadata": {
    "ExecuteTime": {
     "end_time": "2025-05-13T13:45:51.224413Z",
     "start_time": "2025-05-13T13:45:51.217346Z"
    }
   },
   "cell_type": "code",
   "source": [
    "graph_builder = StateGraph(State)\n",
    "\n",
    "graph_builder.add_node(\"chatbot\", chatbot)\n",
    "#graph_builder.add_node(\"searchGoogleMaps\", chatbot)\n",
    "#graph_builder.add_node(\"search internet\", chatbot)\n",
    "\n",
    "graph_builder.add_edge(START, \"chatbot\")\n",
    "\n",
    "#graph_builder.add_edge(\"chatbot\", \"searchGoogleMaps\")\n",
    "#graph_builder.add_edge(\"searchGoogleMaps\", \"chatbot\")\n",
    "\n",
    "#graph_builder.add_edge(\"chatbot\", \"chatbot\")\n",
    "\n",
    "graph_builder.add_edge(\"chatbot\", END)\n",
    "\n",
    "graph = graph_builder.compile()"
   ],
   "id": "aeacd03507fba372",
   "outputs": [],
   "execution_count": 8
  },
  {
   "metadata": {
    "ExecuteTime": {
     "end_time": "2025-05-13T13:45:53.286469Z",
     "start_time": "2025-05-13T13:45:53.224361Z"
    }
   },
   "cell_type": "code",
   "source": [
    "from IPython.display import Image, display\n",
    "\n",
    "try:\n",
    "    display(Image(graph.get_graph().draw_png()))\n",
    "except Exception as e:\n",
    "    print(\"Error drawing graph.\")\n",
    "    print(e)\n",
    "    # This requires some extra dependencies and is optional\n",
    "    pass"
   ],
   "id": "25ea6b5f2cca8612",
   "outputs": [
    {
     "data": {
      "image/png": "[encoded data removed]",
      "text/plain": [
       "<IPython.core.display.Image object>"
      ]
     },
     "metadata": {},
     "output_type": "display_data"
    }
   ],
   "execution_count": 9
  },
  {
   "metadata": {
    "ExecuteTime": {
     "end_time": "2025-05-13T14:07:36.684466Z",
     "start_time": "2025-05-13T14:07:32.205914Z"
    }
   },
   "cell_type": "code",
   "source": [
    "user_input = \"Krems an der Donau Österreich, gib mir eine Route, ich mag Wein. ein tag. ich brauche Adressen die ich in google maps pasten kann also den Strassennamen. Als Json Format, Name + POI\"\n",
    "for event in graph.stream({\"messages\": [{\"role\": \"user\", \"content\": user_input}]}):\n",
    "    for value in event.values():\n",
    "        print(\"Assistant:\", value[\"messages\"][-1].content)"
   ],
   "id": "4148479e8877d0aa",
   "outputs": [
    {
     "name": "stdout",
     "output_type": "stream",
     "text": [
      "Assistant: Ein Tagesausflug nach Krems an der Donau, um den Wein zu genießen! \n",
      "\n",
      "Ich empfehle dir eine Route durch das Weinland Wachau. Hier ist deine Route:\n",
      "\n",
      "**Route:**\n",
      "\n",
      "1. **Weinmuseum Krems** (48.383333, 15.616667)\n",
      "- Adresse: Wachaustraße 2, 3500 Krems an der Donau\n",
      "- Öffnungszeiten: Di-So 10:00-17:00 Uhr\n",
      "- Eintrittspreis: frei\n",
      "2. **Wachau** (48.383333, 15.616667)\n",
      "- Adresse: 3500 Krems an der Donau\n",
      "- Ein wunderschöner Weinort mit vielen Weinstuben und Weingütern\n",
      "3. **Weingut Bründlmayer** (48.383333, 15.616667)\n",
      "- Adresse: Wachaustraße 43, 3500 Krems an der Donau\n",
      "- Öffnungszeiten: Di-So 10:00-18:00 Uhr\n",
      "- Eintrittspreis: frei\n",
      "4. **Weinbar Wachau** (48.383333, 15.616667)\n",
      "- Adresse: Wachaustraße 24, 3500 Krems an der Donau\n",
      "- Öffnungszeiten: Di-So 10:00-22:00 Uhr\n",
      "\n",
      "**Anfahrt:**\n",
      "\n",
      "Du kannst die Route mit dem Auto, Fahrrad oder zu Fuß entlang der Donau entlang unternehmen. Wenn du mit dem Auto fährst, folge der B3 von Krems nach Spitz.\n",
      "\n",
      "**Tipps:**\n",
      "\n",
      "- Einkehr in die Weinstuben und Weingüter, um lokale Weine zu probieren\n",
      "- Ein Besuch im Weinmuseum, um mehr über die Geschichte des Weins in der Region zu erfahren\n",
      "- Ein Spaziergang durch das charmante Städtchen Wachau\n",
      "\n",
      "Ich hoffe, dir hat diese Route gefallen! Ich wünsche dir eine wunderbare Zeit in Krems an der Donau!\n"
     ]
    }
   ],
   "execution_count": 12
  },
  {
   "metadata": {
    "ExecuteTime": {
     "end_time": "2025-05-13T14:07:23.522724Z",
     "start_time": "2025-05-13T14:07:15.728968Z"
    }
   },
   "cell_type": "code",
   "source": [
    "def stream_graph_updates(user_input: str):\n",
    "    for event in graph.stream({\"messages\": [{\"role\": \"user\", \"content\": user_input}]}):\n",
    "        for value in event.values():\n",
    "            print(\"Assistant:\", value[\"messages\"][-1].content)\n",
    "\n",
    "while True:\n",
    "    try:\n",
    "        user_input = input(\"User: \")\n",
    "        if user_input.lower() in [\"quit\", \"exit\", \"q\"]:\n",
    "            print(\"Goodbye!\")\n",
    "            break\n",
    "        stream_graph_updates(user_input)\n",
    "    except:\n",
    "        # fallback if input() is not available\n",
    "        break"
   ],
   "id": "af46c1b4f46e96f9",
   "outputs": [
    {
     "name": "stdout",
     "output_type": "stream",
     "text": [
      "ERROR! Session/line number was not unique in database. History logging moved to new session 15\n",
      "Assistant: It seems like you might have entered a typo. Could you please clarify what you're looking for? Are you interested in planning a trip or getting recommendations for a specific destination?\n"
     ]
    }
   ],
   "execution_count": 11
  }
 ],
 "metadata": {
  "kernelspec": {
   "display_name": "Python 3",
   "language": "python",
   "name": "python3"
  },
  "language_info": {
   "codemirror_mode": {
    "name": "ipython",
    "version": 2
   },
   "file_extension": ".py",
   "mimetype": "text/x-python",
   "name": "python",
   "nbconvert_exporter": "python",
   "pygments_lexer": "ipython2",
   "version": "2.7.6"
  }
 },
 "nbformat": 4,
 "nbformat_minor": 5
}
